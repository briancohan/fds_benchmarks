{
 "cells": [
  {
   "cell_type": "code",
   "execution_count": null,
   "id": "wicked-humanity",
   "metadata": {},
   "outputs": [],
   "source": [
    "%load_ext autoreload\n",
    "%autoreload 2"
   ]
  },
  {
   "cell_type": "code",
   "execution_count": null,
   "id": "linear-reply",
   "metadata": {},
   "outputs": [],
   "source": [
    "import pandas as pd\n",
    "import plotly.express as px\n",
    "from benchmark import data"
   ]
  },
  {
   "cell_type": "code",
   "execution_count": null,
   "id": "inside-tower",
   "metadata": {},
   "outputs": [],
   "source": [
    "xl = 'data/Session 3 - Exercises - Feb-Mar 2021.xlsx'\n",
    "all_data = data.parse_excel(xl)\n",
    "all_data.head()"
   ]
  }
 ],
 "metadata": {
  "kernelspec": {
   "display_name": "Python 3",
   "language": "python",
   "name": "python3"
  },
  "language_info": {
   "codemirror_mode": {
    "name": "ipython",
    "version": 3
   },
   "file_extension": ".py",
   "mimetype": "text/x-python",
   "name": "python",
   "nbconvert_exporter": "python",
   "pygments_lexer": "ipython3",
   "version": "3.9.0"
  }
 },
 "nbformat": 4,
 "nbformat_minor": 5
}
